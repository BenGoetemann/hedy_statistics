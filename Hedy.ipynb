{
 "cells": [
  {
   "cell_type": "code",
   "execution_count": 5,
   "id": "33952c73",
   "metadata": {},
   "outputs": [
    {
     "name": "stdout",
     "output_type": "stream",
     "text": [
      "{1: {'total_error_count': 7415, 'total_cancel_count': 5410, 'total_tryout_count': 74222}, 2: {'total_error_count': 4340, 'total_cancel_count': 1664, 'total_tryout_count': 44329}, 3: {'total_error_count': 5301, 'total_cancel_count': 940, 'total_tryout_count': 72181}, 4: {'total_error_count': 7864, 'total_cancel_count': 803, 'total_tryout_count': 26152}, 5: {'total_error_count': 9003, 'total_cancel_count': 925, 'total_tryout_count': 29254}, 6: {'total_error_count': 5771, 'total_cancel_count': 592, 'total_tryout_count': 22338}, 7: {'total_error_count': 3915, 'total_cancel_count': 395, 'total_tryout_count': 12530}, 8: {'total_error_count': 5295, 'total_cancel_count': 451, 'total_tryout_count': 14477}, 9: {'total_error_count': 14280, 'total_cancel_count': 814, 'total_tryout_count': 28138}, 10: {'total_error_count': 7849, 'total_cancel_count': 460, 'total_tryout_count': 16536}, 11: {'total_error_count': 2474, 'total_cancel_count': 271, 'total_tryout_count': 6377}, 12: {'total_error_count': 2983, 'total_cancel_count': 231, 'total_tryout_count': 7679}, 13: {'total_error_count': 1425, 'total_cancel_count': 133, 'total_tryout_count': 3308}, 14: {'total_error_count': 2030, 'total_cancel_count': 126, 'total_tryout_count': 3995}, 15: {'total_error_count': 2099, 'total_cancel_count': 174, 'total_tryout_count': 7302}, 16: {'total_error_count': 11125, 'total_cancel_count': 613, 'total_tryout_count': 18990}, 17: {'total_error_count': 8151, 'total_cancel_count': 470, 'total_tryout_count': 26007}, 18: {'total_error_count': 1275, 'total_cancel_count': 430, 'total_tryout_count': 2950}}\n"
     ]
    }
   ],
   "source": [
    "import json\n",
    "\n",
    "langs = ['en', 'de']\n",
    "cluster = {}\n",
    "    \n",
    "with open('/Users/ben/Documents/Development/Studium/jupyter/samples/logs-2022.txt') as file:\n",
    "    f = \"[\" + file.read().rstrip(\"\\n\").replace(\"\\n\", \",\") + \"]\"\n",
    "    data = json.loads(f)\n",
    "    \n",
    "    for item in data:\n",
    "        if \"lang\" in item and any(i in item[\"lang\"] for i in langs):\n",
    "            session = item[\"session\"]\n",
    "            \n",
    "            if(session not in cluster): \n",
    "                cluster[session] = {\n",
    "                    \"server_error_count\": 0,\n",
    "                    \"parsing_count\": 0,\n",
    "                    \"max_level\": 0,\n",
    "                    \"parsing_results\": [],\n",
    "                    \"sessions\": []\n",
    "                }\n",
    "            # Appends respective session to cluster\n",
    "            cluster[session][\"sessions\"].append(item)\n",
    "            \n",
    "            # Error Handling\n",
    "            if \"server_error\" in item and item[\"server_error\"] != None: \n",
    "                cluster[session][\"server_error_count\"] += 1\n",
    "                cluster[session][\"parsing_results\"].append({\n",
    "                    \"level\": item[\"level\"],\n",
    "                    \"error\": 1\n",
    "                })\n",
    "            else:\n",
    "                cluster[session][\"parsing_results\"].append({\n",
    "                    \"level\": item[\"level\"],\n",
    "                    \"error\": 0\n",
    "                })\n",
    "            \n",
    "            # Total Parsing Count\n",
    "            cluster[session][\"parsing_count\"] = len(cluster[session][\"sessions\"])\n",
    "            \n",
    "            # Max Level\n",
    "            max_level = max(cluster[session][\"parsing_results\"], key=lambda x:x['level'])[\"level\"]\n",
    "            cluster[session][\"max_level\"] = max_level\n",
    "\n",
    "            \n",
    "results = {}\n",
    "\n",
    "for i in range(18):\n",
    "    results[i+1] = {\n",
    "        \"total_error_count\": 0,\n",
    "        \"total_cancel_count\": 0,\n",
    "        \"total_tryout_count\": 0\n",
    "    }\n",
    "\n",
    "for key, value in cluster.items():\n",
    "    \n",
    "    for parsing_result in value[\"parsing_results\"]:\n",
    "        results[parsing_result[\"level\"]][\"total_error_count\"] += parsing_result[\"error\"]\n",
    "        results[parsing_result[\"level\"]][\"total_tryout_count\"] += 1\n",
    "    \n",
    "    results[value[\"max_level\"]][\"total_cancel_count\"] += 1\n",
    "\n",
    "    \n",
    "print(results)\n"
   ]
  }
 ],
 "metadata": {
  "kernelspec": {
   "display_name": "Python 3 (ipykernel)",
   "language": "python",
   "name": "python3"
  },
  "language_info": {
   "codemirror_mode": {
    "name": "ipython",
    "version": 3
   },
   "file_extension": ".py",
   "mimetype": "text/x-python",
   "name": "python",
   "nbconvert_exporter": "python",
   "pygments_lexer": "ipython3",
   "version": "3.9.13"
  }
 },
 "nbformat": 4,
 "nbformat_minor": 5
}
