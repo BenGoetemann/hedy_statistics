{
 "cells": [
  {
   "cell_type": "code",
   "execution_count": 16,
   "id": "33952c73",
   "metadata": {},
   "outputs": [
    {
     "name": "stdout",
     "output_type": "stream",
     "text": [
      "13575\n"
     ]
    }
   ],
   "source": [
    "import json\n",
    "\n",
    "dict = {}\n",
    "\n",
    "with open('/Users/ben/Documents/Development/Studium/jupyter/logs-2022.txt') as file:\n",
    "    f = \"[\" + file.read().rstrip(\"\\n\").replace(\"\\n\", \",\") + \"]\"\n",
    "    data = json.loads(f)\n",
    "    \n",
    "    for item in data:\n",
    "        if \"lang\" in item and item[\"lang\"] == \"en\":\n",
    "            session = item[\"session\"]\n",
    "            if(session not in dict): \n",
    "                dict[session] = {\n",
    "                    \"server_error_count\": 0,\n",
    "                    \"parsing_count\": 0,\n",
    "                    \"parsing_results\": [], # [0, 1, 0, 0, 1]\n",
    "                    \"sessions\": []\n",
    "                }\n",
    "            dict[session][\"sessions\"].append(item)\n",
    "            if \"server_error\" in item and item[\"server_error\"] != None: dict[session][\"server_error_count\"] += 1\n",
    "            dict[session][\"parsing_count\"] = len(dict[session][\"sessions\"])\n",
    "    \n",
    "print(len(dict))"
   ]
  },
  {
   "cell_type": "code",
   "execution_count": null,
   "id": "e0fc6e84",
   "metadata": {},
   "outputs": [],
   "source": []
  },
  {
   "cell_type": "code",
   "execution_count": null,
   "id": "ab925a73",
   "metadata": {},
   "outputs": [],
   "source": []
  },
  {
   "cell_type": "code",
   "execution_count": null,
   "id": "d5abed57",
   "metadata": {},
   "outputs": [],
   "source": []
  },
  {
   "cell_type": "code",
   "execution_count": null,
   "id": "ed01dcea",
   "metadata": {},
   "outputs": [],
   "source": []
  },
  {
   "cell_type": "code",
   "execution_count": null,
   "id": "1b08f2c4",
   "metadata": {},
   "outputs": [],
   "source": []
  }
 ],
 "metadata": {
  "kernelspec": {
   "display_name": "Python 3 (ipykernel)",
   "language": "python",
   "name": "python3"
  },
  "language_info": {
   "codemirror_mode": {
    "name": "ipython",
    "version": 3
   },
   "file_extension": ".py",
   "mimetype": "text/x-python",
   "name": "python",
   "nbconvert_exporter": "python",
   "pygments_lexer": "ipython3",
   "version": "3.9.13"
  }
 },
 "nbformat": 4,
 "nbformat_minor": 5
}
